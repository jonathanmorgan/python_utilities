{
 "cells": [
  {
   "cell_type": "markdown",
   "metadata": {
    "toc": true
   },
   "source": [
    "<h1>Table of Contents<span class=\"tocSkip\"></span></h1>\n",
    "<div class=\"toc\"><ul class=\"toc-item\"><li><span><a href=\"#Setup\" data-toc-modified-id=\"Setup-1\"><span class=\"toc-item-num\">1&nbsp;&nbsp;</span>Setup</a></span></li><li><span><a href=\"#Create-a-bag\" data-toc-modified-id=\"Create-a-bag-2\"><span class=\"toc-item-num\">2&nbsp;&nbsp;</span>Create a bag</a></span></li><li><span><a href=\"#Work-with-an-existing-bagit-bag\" data-toc-modified-id=\"Work-with-an-existing-bagit-bag-3\"><span class=\"toc-item-num\">3&nbsp;&nbsp;</span>Work with an existing bagit bag</a></span><ul class=\"toc-item\"><li><span><a href=\"#Load-existing-bag\" data-toc-modified-id=\"Load-existing-bag-3.1\"><span class=\"toc-item-num\">3.1&nbsp;&nbsp;</span>Load existing bag</a></span></li><li><span><a href=\"#Update-bag-manifests\" data-toc-modified-id=\"Update-bag-manifests-3.2\"><span class=\"toc-item-num\">3.2&nbsp;&nbsp;</span>Update bag manifests</a></span></li><li><span><a href=\"#Verify-existing-bag\" data-toc-modified-id=\"Verify-existing-bag-3.3\"><span class=\"toc-item-num\">3.3&nbsp;&nbsp;</span>Verify existing bag</a></span></li></ul></li></ul></div>"
   ]
  },
  {
   "cell_type": "markdown",
   "metadata": {},
   "source": [
    "# Setup\n",
    "\n",
    "- Back to [Table of Contents](#Table-of-Contents)"
   ]
  },
  {
   "cell_type": "code",
   "execution_count": null,
   "metadata": {},
   "outputs": [],
   "source": [
    "import bagit\n",
    "import datetime\n",
    "import logging"
   ]
  },
  {
   "cell_type": "code",
   "execution_count": null,
   "metadata": {},
   "outputs": [],
   "source": [
    "# config\n",
    "\n",
    "# folder paths\n",
    "#work_folder = \"/Volumes/Samsung_T5/projects/phd/proquest_hnp\"\n",
    "work_folder = \"<folder_path>\"\n",
    "bag_folder = \"{}/<folder_with_data_files>\".format( work_folder )\n",
    "process_count = 4\n",
    "checksum_list = [ \"sha256\" ]\n",
    "bagit_parameters = {}\n",
    "bagit_parameters[ \"Contact-Name\" ] = \"<name>\"\n",
    "bagit_parameters[ \"Contact-Email\" ] = \"<email>\""
   ]
  },
  {
   "cell_type": "code",
   "execution_count": null,
   "metadata": {},
   "outputs": [],
   "source": [
    "cd $bag_folder"
   ]
  },
  {
   "cell_type": "code",
   "execution_count": null,
   "metadata": {},
   "outputs": [],
   "source": [
    "ls"
   ]
  },
  {
   "cell_type": "code",
   "execution_count": null,
   "metadata": {},
   "outputs": [],
   "source": [
    "# logging config\n",
    "log_file_name = \"{}/bagit-log.txt\".format( work_folder )\n",
    "logging.basicConfig(\n",
    "    level = logging.INFO,\n",
    "    format = \"%(asctime)s - %(levelname)s - %(name)s - %(message)s\",\n",
    "    filename = log_file_name,\n",
    "    filemode = \"w\" # set to \"a\" if you want to append each time\n",
    ")"
   ]
  },
  {
   "cell_type": "markdown",
   "metadata": {},
   "source": [
    "# Create a bag\n",
    "\n",
    "- Back to [Table of Contents](#Table-of-Contents)\n",
    "\n",
    "In the `bag_folder`, will create a folder named \"data\", move all data into that folder exactly as it originally was within the `bag_folder`, including sub-folders, then create bagit manifest files alongside the \"data\" folder that can subsequently be used to walk the data folder and checksum each file within.\n",
    "\n",
    "*NOTE: if you are on a Mac, you might need to go into the file `tagmanifest-sha256` and remove the line for \"`.DS_store`\".  This macos system file changes over time, and so will cause your bag to be invalid over time.*"
   ]
  },
  {
   "cell_type": "code",
   "execution_count": null,
   "metadata": {},
   "outputs": [],
   "source": [
    "%cd $bag_folder"
   ]
  },
  {
   "cell_type": "code",
   "execution_count": null,
   "metadata": {},
   "outputs": [],
   "source": [
    "%pwd"
   ]
  },
  {
   "cell_type": "code",
   "execution_count": null,
   "metadata": {},
   "outputs": [],
   "source": [
    "print( \"bagit make_bag() started at {}\".format( datetime.datetime.now() ) )\n",
    "bag = bagit.make_bag( bag_folder, bag_info = bagit_parameters, processes = process_count, checksums = checksum_list )\n",
    "print( \"bagit make_bag() completed at {}\".format( datetime.datetime.now() ) )"
   ]
  },
  {
   "cell_type": "markdown",
   "metadata": {},
   "source": [
    "# Work with an existing bagit bag\n",
    "\n",
    "- Back to [Table of Contents](#Table-of-Contents)"
   ]
  },
  {
   "cell_type": "markdown",
   "metadata": {},
   "source": [
    "## Load existing bag\n",
    "\n",
    "- Back to [Table of Contents](#Table-of-Contents)"
   ]
  },
  {
   "cell_type": "code",
   "execution_count": null,
   "metadata": {},
   "outputs": [],
   "source": [
    "# load bag from folder:\n",
    "bag = bagit.Bag( bag_folder )"
   ]
  },
  {
   "cell_type": "markdown",
   "metadata": {},
   "source": [
    "## Update bag manifests\n",
    "\n",
    "- Back to [Table of Contents](#Table-of-Contents)"
   ]
  },
  {
   "cell_type": "code",
   "execution_count": null,
   "metadata": {},
   "outputs": [],
   "source": [
    "# make changes\n",
    "import shutil, os\n",
    "\n",
    "# add a file\n",
    "shutil.copyfile( \"newfile\", \"{}/data/newfile\".format( bag_folder ) )\n",
    "\n",
    "# remove a file\n",
    "os.remove( \"{}/data/deleteme\".format( bag_folder ) )"
   ]
  },
  {
   "cell_type": "code",
   "execution_count": null,
   "metadata": {},
   "outputs": [],
   "source": [
    "# load bag from folder:\n",
    "#bag = bagit.Bag( bag_folder )\n",
    "\n",
    "# persist changes\n",
    "print( \"bagit save() started at {}\".format( datetime.datetime.now() ) )\n",
    "bag.save( manifests = True, processes = 4 )\n",
    "print( \"bagit save() completed at {}\".format( datetime.datetime.now() ) )"
   ]
  },
  {
   "cell_type": "markdown",
   "metadata": {},
   "source": [
    "## Verify existing bag\n",
    "\n",
    "- Back to [Table of Contents](#Table-of-Contents)"
   ]
  },
  {
   "cell_type": "code",
   "execution_count": null,
   "metadata": {},
   "outputs": [],
   "source": [
    "# load bag from folder:\n",
    "#bag = bagit.Bag( bag_folder )\n",
    "\n",
    "print( \"bagit is_valid() started at {}\".format( datetime.datetime.now() ) )\n",
    "is_bag_valid = bag.is_valid()\n",
    "print( \"bagit is_valid() completed at {}\".format( datetime.datetime.now() ) )\n",
    "\n",
    "if ( is_bag_valid == True ):\n",
    "    print( \"yay :)\" )\n",
    "else:\n",
    "    print( \"boo :(\" )\n",
    "#-- END check to see if valid --#\n"
   ]
  }
 ],
 "metadata": {
  "kernelspec": {
   "display_name": "conda_bagit",
   "language": "python",
   "name": "conda_bagit"
  },
  "language_info": {
   "codemirror_mode": {
    "name": "ipython",
    "version": 3
   },
   "file_extension": ".py",
   "mimetype": "text/x-python",
   "name": "python",
   "nbconvert_exporter": "python",
   "pygments_lexer": "ipython3",
   "version": "3.7.3"
  },
  "toc": {
   "base_numbering": 1,
   "nav_menu": {},
   "number_sections": true,
   "sideBar": true,
   "skip_h1_title": false,
   "title_cell": "Table of Contents",
   "title_sidebar": "Contents",
   "toc_cell": true,
   "toc_position": {},
   "toc_section_display": true,
   "toc_window_display": true
  }
 },
 "nbformat": 4,
 "nbformat_minor": 2
}
